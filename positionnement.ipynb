{
 "cells": [
  {
   "cell_type": "code",
   "execution_count": 1,
   "metadata": {},
   "outputs": [],
   "source": [
    "import numpy as np\n",
    "import pandas as pd\n",
    "import matplotlib.pylab as plt"
   ]
  },
  {
   "cell_type": "code",
   "execution_count": null,
   "metadata": {},
   "outputs": [],
   "source": [
    "import usb.core\n",
    "import usb.util\n",
    "import usb.backend.libusb1"
   ]
  },
  {
   "cell_type": "code",
   "execution_count": 2,
   "metadata": {},
   "outputs": [],
   "source": [
    "from utils.geometrie import *\n",
    "from utils.fonctions_utils import *"
   ]
  },
  {
   "cell_type": "code",
   "execution_count": 3,
   "metadata": {},
   "outputs": [],
   "source": [
    "#coord_micros = [] # rentrer à la main les coordonnées\n",
    "coord_micros = coordonnees_micros_xml_sorted('utils/xml/micgeom.xml') # récupérer les coordonnées depuis un fichier XML"
   ]
  },
  {
   "cell_type": "code",
   "execution_count": 4,
   "metadata": {},
   "outputs": [
    {
     "ename": "NoBackendError",
     "evalue": "No backend available",
     "output_type": "error",
     "traceback": [
      "\u001b[0;31m---------------------------------------------------------------------------\u001b[0m",
      "\u001b[0;31mNoBackendError\u001b[0m                            Traceback (most recent call last)",
      "Cell \u001b[0;32mIn[4], line 4\u001b[0m\n\u001b[1;32m      1\u001b[0m \u001b[38;5;66;03m## Acquisition ##\u001b[39;00m\n\u001b[1;32m      3\u001b[0m backend \u001b[38;5;241m=\u001b[39m usb\u001b[38;5;241m.\u001b[39mbackend\u001b[38;5;241m.\u001b[39mlibusb1\u001b[38;5;241m.\u001b[39mget_backend()\n\u001b[0;32m----> 4\u001b[0m dev \u001b[38;5;241m=\u001b[39m usb\u001b[38;5;241m.\u001b[39mcore\u001b[38;5;241m.\u001b[39mfind(idVendor\u001b[38;5;241m=\u001b[39m\u001b[38;5;241m0xfe27\u001b[39m, idProduct\u001b[38;5;241m=\u001b[39m\u001b[38;5;241m0xac03\u001b[39m) \n\u001b[1;32m      6\u001b[0m Nmics \u001b[38;5;241m=\u001b[39m \u001b[38;5;241m32\u001b[39m\n\u001b[1;32m      7\u001b[0m length \u001b[38;5;241m=\u001b[39m \u001b[38;5;241m32768\u001b[39m\n",
      "File \u001b[0;32m~/anaconda3/lib/python3.11/site-packages/usb/core.py:1309\u001b[0m, in \u001b[0;36mfind\u001b[0;34m(find_all, backend, custom_match, **args)\u001b[0m\n\u001b[1;32m   1307\u001b[0m             \u001b[38;5;28;01mbreak\u001b[39;00m\n\u001b[1;32m   1308\u001b[0m     \u001b[38;5;28;01melse\u001b[39;00m:\n\u001b[0;32m-> 1309\u001b[0m         \u001b[38;5;28;01mraise\u001b[39;00m NoBackendError(\u001b[38;5;124m'\u001b[39m\u001b[38;5;124mNo backend available\u001b[39m\u001b[38;5;124m'\u001b[39m)\n\u001b[1;32m   1311\u001b[0m \u001b[38;5;28;01mif\u001b[39;00m find_all:\n\u001b[1;32m   1312\u001b[0m     \u001b[38;5;28;01mreturn\u001b[39;00m device_iter(\u001b[38;5;241m*\u001b[39m\u001b[38;5;241m*\u001b[39margs)\n",
      "\u001b[0;31mNoBackendError\u001b[0m: No backend available"
     ]
    }
   ],
   "source": [
    "## Acquisition ##\n",
    "\n",
    "backend = usb.backend.libusb1.get_backend()\n",
    "dev = usb.core.find(idVendor=0xfe27, idProduct=0xac03) \n",
    "\n",
    "Nmics = 16\n",
    "length = 32768\n",
    "Nseg = (4 * length * Nmics) // 1024\n",
    "Z = np.zeros([1024, Nseg])\n",
    "\n",
    "transitoire = 20000\n",
    "\n",
    "# transferts\n",
    "for n in range(Nseg):\n",
    "    # lire la doc megamicro\n",
    "    dev.ctrl_transfer(0x40, 0xB1, 0, 0, [0x02]) # envoie la requete pour pouvoir ecouter sur le port usb\n",
    "    Z[:, n] = dev.read(0x81, 1024, 1000) # lire le donnees et le mettre dans un tableau numpy\n",
    "\n",
    "U = Z.T.ravel()\n",
    "# reconstruction des int32 (naif) \n",
    "V = U.reshape([length * Nmics, 4])\n",
    "W = V[:, 3] * 256**3 + V[:, 2] * 256**2 + V[:, 1] * 256 + V[:, 0]\n",
    "W[W > 2**31] = W[W > 2**31] - 2**32\n",
    "# normalisation\n",
    "W = W / np.max(np.abs(W))\n",
    "# restructuration en canaux pour pouvoir etre envoye a la partie traitement\n",
    "R = W.reshape([W.shape[0] // Nmics, Nmics])\n",
    "# on enlève le début (silence et transitoire)\n",
    "data = R[int(transitoire):, :]\n",
    "\n",
    "## Réarrangement ##\n",
    "def ordre_micros(matrice_acquisition):\n",
    "    \"\"\"\n",
    "    Remets dans l'ordre les microphones en échangeant les colonnes \n",
    "    de la matrice d'acquisition.\n",
    "\n",
    "    Parameters:\n",
    "    matrice_acquisition (np.ndarray): matrice d'acquisition.\n",
    "\n",
    "    Returns:\n",
    "    np.ndarray: matrice réarrangée.\n",
    "    \"\"\"\n",
    "    matrice_arangee = np.zeros(matrice_acquisition.shape, dtype=\"complex_\")\n",
    "    # De 0 à 7\n",
    "    matrice_arangee[:, 8] = matrice_acquisition[:, 0]\n",
    "    matrice_arangee[:, 9] = matrice_acquisition[:, 1]\n",
    "    matrice_arangee[:, 10] = matrice_acquisition[:, 2]\n",
    "    matrice_arangee[:, 11] = matrice_acquisition[:, 3]\n",
    "    matrice_arangee[:, 12] = matrice_acquisition[:, 4]\n",
    "    matrice_arangee[:, 13] = matrice_acquisition[:, 5]\n",
    "    matrice_arangee[:, 14] = matrice_acquisition[:, 6]\n",
    "    matrice_arangee[:, 15] = matrice_acquisition[:, 7]\n",
    "\n",
    "    # De 8 à 15\n",
    "    matrice_arangee[:, 7] = matrice_acquisition[:, 8]\n",
    "    matrice_arangee[:, 6] = matrice_acquisition[:, 9]\n",
    "    matrice_arangee[:, 5] = matrice_acquisition[:, 10]\n",
    "    matrice_arangee[:, 4] = matrice_acquisition[:, 11]\n",
    "    matrice_arangee[:, 3] = matrice_acquisition[:, 12]\n",
    "    matrice_arangee[:, 2] = matrice_acquisition[:, 13]\n",
    "    matrice_arangee[:, 1] = matrice_acquisition[:, 14]\n",
    "    matrice_arangee[:, 0] = matrice_acquisition[:, 15]\n",
    "    return matrice_arangee\n",
    "\n",
    "rdata = ordre_micros(data)\n",
    "\n",
    "## Vérification ##\n",
    "\n",
    "verification_position(data.T, rdata.T, coord_micros)"
   ]
  },
  {
   "cell_type": "code",
   "execution_count": 12,
   "metadata": {},
   "outputs": [
    {
     "name": "stdout",
     "output_type": "stream",
     "text": [
      "Detected mic index: 5 -> 13\n"
     ]
    },
    {
     "data": {
      "image/png": "[encoded data removed]",
      "text/plain": [
       "<Figure size 640x480 with 1 Axes>"
      ]
     },
     "metadata": {},
     "output_type": "display_data"
    }
   ],
   "source": [
    "data = np.zeros((32768, 16))\n",
    "data[:, 5] = 1\n",
    "\n",
    "## Réarrangement ##\n",
    "\n",
    "def ordre_micros(matrice_acquisition):\n",
    "    \"\"\"\n",
    "    Remets dans l'ordre les microphones en échangeant les colonnes \n",
    "    de la matrice d'acquisition.\n",
    "\n",
    "    Parameters:\n",
    "    matrice_acquisition (np.ndarray): matrice d'acquisition.\n",
    "\n",
    "    Returns:\n",
    "    np.ndarray: matrice réarrangée.\n",
    "    \"\"\"\n",
    "    matrice_arangee = np.zeros(matrice_acquisition.shape, dtype=\"complex_\")\n",
    "    # De 0 à 7\n",
    "    matrice_arangee[:, 8] = matrice_acquisition[:, 0]\n",
    "    matrice_arangee[:, 9] = matrice_acquisition[:, 1]\n",
    "    matrice_arangee[:, 10] = matrice_acquisition[:, 2]\n",
    "    matrice_arangee[:, 11] = matrice_acquisition[:, 3]\n",
    "    matrice_arangee[:, 12] = matrice_acquisition[:, 4]\n",
    "    matrice_arangee[:, 13] = matrice_acquisition[:, 5]\n",
    "    matrice_arangee[:, 14] = matrice_acquisition[:, 6]\n",
    "    matrice_arangee[:, 15] = matrice_acquisition[:, 7]\n",
    "\n",
    "    # De 8 à 15\n",
    "    matrice_arangee[:, 7] = matrice_acquisition[:, 8]\n",
    "    matrice_arangee[:, 6] = matrice_acquisition[:, 9]\n",
    "    matrice_arangee[:, 5] = matrice_acquisition[:, 10]\n",
    "    matrice_arangee[:, 4] = matrice_acquisition[:, 11]\n",
    "    matrice_arangee[:, 3] = matrice_acquisition[:, 12]\n",
    "    matrice_arangee[:, 2] = matrice_acquisition[:, 13]\n",
    "    matrice_arangee[:, 1] = matrice_acquisition[:, 14]\n",
    "    matrice_arangee[:, 0] = matrice_acquisition[:, 15]\n",
    "    return matrice_arangee\n",
    "\n",
    "rdata = ordre_micros(data)\n",
    "\n",
    "## Vérification ##\n",
    "\n",
    "verification_position(data.T, rdata.T, coord_micros)"
   ]
  },
  {
   "cell_type": "code",
   "execution_count": null,
   "metadata": {},
   "outputs": [],
   "source": []
  }
 ],
 "metadata": {
  "kernelspec": {
   "display_name": "loca-env",
   "language": "python",
   "name": "python3"
  },
  "language_info": {
   "codemirror_mode": {
    "name": "ipython",
    "version": 3
   },
   "file_extension": ".py",
   "mimetype": "text/x-python",
   "name": "python",
   "nbconvert_exporter": "python",
   "pygments_lexer": "ipython3",
   "version": "3.11.6"
  }
 },
 "nbformat": 4,
 "nbformat_minor": 2
}
